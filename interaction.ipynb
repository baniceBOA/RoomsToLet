{
 "cells": [
  {
   "cell_type": "code",
   "execution_count": null,
   "id": "0df7e194",
   "metadata": {},
   "outputs": [],
   "source": [
    "from db import Account"
   ]
  },
  {
   "cell_type": "code",
   "execution_count": null,
   "id": "493d0205",
   "metadata": {},
   "outputs": [],
   "source": [
    "Account"
   ]
  },
  {
   "cell_type": "code",
   "execution_count": null,
   "id": "06eebfee",
   "metadata": {},
   "outputs": [],
   "source": [
    "from server import db"
   ]
  },
  {
   "cell_type": "code",
   "execution_count": null,
   "id": "f77f9f58",
   "metadata": {},
   "outputs": [],
   "source": [
    "acc = Account(firstname='Bernice', secondname=\"Ong'ayo\", username='admin', email='ambundothesecond@gmail.com', password='boaboa')\n"
   ]
  },
  {
   "cell_type": "code",
   "execution_count": null,
   "id": "3a28c162",
   "metadata": {},
   "outputs": [],
   "source": [
    "db.session.add(acc)"
   ]
  },
  {
   "cell_type": "code",
   "execution_count": null,
   "id": "bd232872",
   "metadata": {},
   "outputs": [],
   "source": [
    "db.session.commit()"
   ]
  },
  {
   "cell_type": "code",
   "execution_count": 2,
   "id": "973df9bc",
   "metadata": {},
   "outputs": [],
   "source": [
    "import requests"
   ]
  },
  {
   "cell_type": "code",
   "execution_count": null,
   "id": "526070cc",
   "metadata": {},
   "outputs": [],
   "source": [
    "resp = requests.get('http://127.0.0.1:5000/login')\n",
    "resp.content"
   ]
  },
  {
   "cell_type": "code",
   "execution_count": null,
   "id": "d841840c",
   "metadata": {},
   "outputs": [],
   "source": [
    "url = 'http://127.0.0.1:5000/create_account'\n",
    "data = {\n",
    "    'firstname':'Monica',\n",
    "    'secondname':'Mbugua',\n",
    "    'email':'monicambugua@gmail.com',\n",
    "    'username':'mbugush',\n",
    "    'password':'monicas',\n",
    "    'image':'D:/files/images/IMG-20220313-WA0011.jpg'\n",
    "}\n",
    "resp = requests.post(url, data=data)\n",
    "resp.content"
   ]
  },
  {
   "cell_type": "code",
   "execution_count": null,
   "id": "c19f64ea",
   "metadata": {},
   "outputs": [],
   "source": [
    "url = 'http://127.0.0.1:5000/check_username'\n",
    "data = {'username':'admin'}\n",
    "resp = requests.post(url, data=data)\n",
    "if 'Invalid' in str(resp.content):\n",
    "    print('in use ')\n",
    "else:\n",
    "    print('Not in use')"
   ]
  },
  {
   "cell_type": "code",
   "execution_count": null,
   "id": "6313f09b",
   "metadata": {},
   "outputs": [],
   "source": [
    "url = 'http://127.0.0.1:5000/upload'\n",
    "data = {'file':('monica.jpg', open('D:/files/images/IMG-20220313-WA0011.jpg', 'rb'))}\n",
    "resp = requests.post(url, files=data)\n",
    "resp"
   ]
  },
  {
   "cell_type": "code",
   "execution_count": null,
   "id": "a94b51d8",
   "metadata": {},
   "outputs": [],
   "source": [
    "url = 'http://127.0.0.1:5000/files'\n",
    "data = {'username':'admin'}\n",
    "resp = requests.get(url)\n",
    "\n"
   ]
  },
  {
   "cell_type": "code",
   "execution_count": 24,
   "id": "687929be",
   "metadata": {},
   "outputs": [],
   "source": [
    "from PIL import Image\n",
    "from io import BytesIO\n",
    "from matplotlib import pyplot as plt\n",
    "import base64"
   ]
  },
  {
   "cell_type": "code",
   "execution_count": null,
   "id": "1552de82",
   "metadata": {},
   "outputs": [],
   "source": [
    "image = Image.open(BytesIO(resp.content))\n"
   ]
  },
  {
   "cell_type": "code",
   "execution_count": null,
   "id": "b2c9a6b9",
   "metadata": {},
   "outputs": [],
   "source": [
    "type(resp.content)"
   ]
  },
  {
   "cell_type": "code",
   "execution_count": null,
   "id": "718c8023",
   "metadata": {},
   "outputs": [],
   "source": [
    "plt.imshow(image)"
   ]
  },
  {
   "cell_type": "code",
   "execution_count": null,
   "id": "501c316f",
   "metadata": {
    "scrolled": true
   },
   "outputs": [],
   "source": [
    "resp.headers"
   ]
  },
  {
   "cell_type": "code",
   "execution_count": null,
   "id": "61af6ee2",
   "metadata": {},
   "outputs": [],
   "source": [
    "from flask import send_from_directory"
   ]
  },
  {
   "cell_type": "code",
   "execution_count": null,
   "id": "3aaa543e",
   "metadata": {},
   "outputs": [],
   "source": [
    "url = 'http://127.0.0.1:5000/house'\n",
    "data = {'housetype':'Bungalow',\n",
    "\t\t\t\t'location_description':'The house is  next to the Museum Arcade and close to the parliament building',\n",
    "\t\t\t\t'floorspace': 13,\n",
    "\t\t\t\t'name':'The masters',\n",
    "\t\t\t\t'region':'Nairobi',\n",
    "\t\t\t\t'location':'West Lands',\n",
    "                'rooms':12,\n",
    "\t\t\t\t'water':True,\n",
    "\t\t\t\t'rent':20000,\n",
    "\t\t\t\t'gps':'23.34434, 26.784'}\n",
    "files = {'picture':('monica.jpg', open('D:/files/images/IMG-20220313-WA0011.jpg', 'rb'))}\n",
    "resp = requests.post(url, data=data, files=files)\n",
    "resp"
   ]
  },
  {
   "cell_type": "code",
   "execution_count": null,
   "id": "f86541a0",
   "metadata": {},
   "outputs": [],
   "source": [
    "url ='http://127.0.0.1:5000/room'\n",
    "data =  {\n",
    "\t\t\t\t'hotelname':'serena',\n",
    "\t\t\t\t'region':'Nairobi',\n",
    "\t\t\t\t'roomtype':'luxury',\n",
    "\t\t\t\t'gps':'84.737348,72.8734423',\n",
    "\t\t\t\t'amount':82382,\n",
    "\t\t\t\t'location':'Opposite luxury casino',\n",
    "\t\t\t\t'description':'The room is furnished with a lot of content and the place is very secure'\n",
    "\t\t}\n",
    "files = {'picture':('monica.jpg', open('D:/files/images/IMG-20220313-WA0011.jpg', 'rb'))}\n",
    "resp = requests.post(url, data=data, files=files)\n",
    "resp"
   ]
  },
  {
   "cell_type": "code",
   "execution_count": 4,
   "id": "40d0013e",
   "metadata": {},
   "outputs": [
    {
     "data": {
      "text/plain": [
       "<Response [200]>"
      ]
     },
     "execution_count": 4,
     "metadata": {},
     "output_type": "execute_result"
    }
   ],
   "source": [
    "url ='http://127.0.0.1:5000/uploads/monica.jpg'\n",
    "resp =  requests.get(url)\n",
    "resp"
   ]
  },
  {
   "cell_type": "code",
   "execution_count": null,
   "id": "6905f2b9",
   "metadata": {},
   "outputs": [],
   "source": [
    "resp.headers"
   ]
  },
  {
   "cell_type": "code",
   "execution_count": 2,
   "id": "ac92d01c",
   "metadata": {},
   "outputs": [],
   "source": [
    "r = requests.get('http://localhost:5000/get_images')"
   ]
  },
  {
   "cell_type": "code",
   "execution_count": 3,
   "id": "5f9b4702",
   "metadata": {},
   "outputs": [
    {
     "data": {
      "text/plain": [
       "<Response [200]>"
      ]
     },
     "execution_count": 3,
     "metadata": {},
     "output_type": "execute_result"
    }
   ],
   "source": [
    "r'C:\\Users\\HP\\Pictures\\_yibs_ke-20220923-0001.webp'"
   ]
  },
  {
   "cell_type": "code",
   "execution_count": 4,
   "id": "24df0b2b",
   "metadata": {},
   "outputs": [],
   "source": [
    "result = r.json()"
   ]
  },
  {
   "cell_type": "markdown",
   "id": "1a19c39a-3713-4fff-a566-dc70caef6fa5",
   "metadata": {},
   "source": [
    "for img in result['images'][:3]:\n",
    "    i = img.replace('/', '_')\n",
    "    file = i.replace('\\\\','_')\n",
    "    print(file)\n",
    "    r = requests.get(f'http://localhost:5000/get_file/{file}')\n",
    "    print(r.content)\n",
    "    "
   ]
  },
  {
   "cell_type": "code",
   "execution_count": null,
   "id": "4e90b4e2",
   "metadata": {},
   "outputs": [],
   "source": [
    "base64.b64decode(result['result'][0])"
   ]
  },
  {
   "cell_type": "code",
   "execution_count": 17,
   "id": "ad6de4bb",
   "metadata": {},
   "outputs": [
    {
     "data": {
      "image/png": "[encoded data removed]",
      "text/plain": [
       "<Figure size 432x288 with 1 Axes>"
      ]
     },
     "metadata": {
      "needs_background": "light"
     },
     "output_type": "display_data"
    }
   ],
   "source": [
    "for pos, img in enumerate(result['images'][:1]):\n",
    "    i = img.replace('/', '_')\n",
    "    file = i.replace('\\\\','_')\n",
    "    #print(file)\n",
    "    r = requests.get(f'http://localhost:5000/get_file/{file}')\n",
    "    pic = Image.open(BytesIO(r.content))\n",
    "    plt.imshow(pic)"
   ]
  },
  {
   "cell_type": "code",
   "execution_count": 10,
   "id": "a2ce30db",
   "metadata": {},
   "outputs": [
    {
     "name": "stdout",
     "output_type": "stream",
     "text": [
      "['remove', 'bg.png']\n",
      "IMG-20220414-WA0004\n",
      "D:/GDWhatsApp/Media/GBWhatsApp Images/IMG-20220414-WA0004_remove_bg.png\n"
     ]
    }
   ],
   "source": [
    "import os\n",
    "string = 'D:/GDWhatsApp/Media/GBWhatsApp Images/IMG-20220414-WA0004/remove/bg.png'\n",
    "if 'remove' in string:\n",
    "    s = string.split('/')\n",
    "    temp = ''\n",
    "    print(s[-2:])\n",
    "    v = s[-2:]\n",
    "    f = s[4] + '_' + v[0] +'_'+ v[1]\n",
    "    for i in s[:-3]:\n",
    "        k = i + '/'\n",
    "        temp+=  k\n",
    "    print(s[4])   \n",
    "    print(os.path.join(temp, f))\n",
    "    "
   ]
  },
  {
   "cell_type": "code",
   "execution_count": 18,
   "id": "2230fb78",
   "metadata": {},
   "outputs": [],
   "source": [
    "from threading import Thread"
   ]
  },
  {
   "cell_type": "code",
   "execution_count": null,
   "id": "8943e55c",
   "metadata": {},
   "outputs": [],
   "source": [
    "class WorkLoadDistributor:\n",
    "    ''' Distribute the work load to a specided number of threads'''\n",
    "    max_thread = 1\n",
    "    runners = 1\n",
    "    waiting = []\n",
    "    def __init__(self,func max_thread=5):\n",
    "        self.max_thread = max_thread\n",
    "        self.runners = self.max_thread\n",
    "        self.func = func\n",
    "    @classmethod\n",
    "    def run(cls, *args):\n",
    "        self.args = args \n",
    "        if cls.max_thread < self.runners:\n",
    "            self.waiting.append(args)\n",
    "        else:\n",
    "            cls.create_thread(args)\n",
    "    def create_thread(self, args):\n",
    "        for run in range(max_thread)\n",
    "        \n",
    "        "
   ]
  },
  {
   "cell_type": "code",
   "execution_count": 48,
   "id": "698e298a",
   "metadata": {},
   "outputs": [],
   "source": [
    "# controller:\n",
    "from db import Account, Room, House, LandLord, engine\n",
    "from sqlalchemy.orm import sessionmaker\n",
    "import json\n",
    "\n",
    "session = sessionmaker()(bind=engine) #create a custom session for updating the database\n",
    "# this is to ensure reliability of the database even with multiple connections\n",
    "\n",
    "\n",
    "class Controller:\n",
    "    \n",
    "    \n",
    "    def create_json_dict(self, result):\n",
    "        ''' \n",
    "        convert the result into  a dictionary then to the to a json which will be return to the request\n",
    "            :args: result\n",
    "                result is a list of list and should be processed as such\n",
    "        '''\n",
    "        mappings = {}\n",
    "        for res in result:\n",
    "            if res:\n",
    "                #confirm the the list actualy has values before processing it\n",
    "                for value in res:\n",
    "                    # the value here is taken to be a ~db.Room  \n",
    "                    dic = value.serialize\n",
    "                    if dic['id'] in mappings:\n",
    "                        pass\n",
    "                    else:\n",
    "                        mappings[dic['id']] = dic\n",
    "\n",
    "        return json.dumps(mappings, indent=4)\n",
    "class RoomController(Controller):\n",
    "    ''' create a brigde between between the view and the models'''\n",
    "    def __init__(self):\n",
    "        self.room = None\n",
    "    @staticmethod\n",
    "    def add_items(self, hotelname='',\n",
    "\t\t\t\t  region='',\n",
    "\t\t\t\t  roomtype='',\n",
    "\t\t\t\t  location='',\n",
    "\t\t\t\t  gps='',\n",
    "\t\t\t\t  amount=0,\n",
    "\t\t\t\t  description=''):\n",
    "        ''' populate the fields of the room database'''\n",
    "        self.room = Room(hotelname=hotelname,region=region, roomtype=roomtype,location=location,gps=gps, amount=amount, description=description,)\n",
    "        self.commit(self.room)\n",
    "    def commit(self, room_instance):\n",
    "        session.add(room_instance)\n",
    "        session.commit()\n",
    "    def query(self, value):\n",
    "        ''' :'Query the database for multiple value in different fields\n",
    "        returns an json with the values found in the database\n",
    "        '''\n",
    "        hotelname = session.query(Room).filter(Room.hotelname.like(f'%{value}%')).all()\n",
    "        region = session.query(Room).filter(Room.region.like(f'%{value}%')).all()\n",
    "        roomtype = session.query(Room).filter(Room.roomtype.like(f'%{value}%')).all()\n",
    "        location = session.query(Room).filter(Room.location.like(f'%{value}%')).all()\n",
    "        description = session.query(Room).filter(Room.description.like(f'%{value}%')).all()\n",
    "        values =[hotelname, region, roomtype, location, description]\n",
    "        return self.create_json_dict(values)\n",
    "    \n",
    "\n",
    "\n",
    "class AccountController(Controller):\n",
    "    def __init__(self):\n",
    "        self.account = None\n",
    "    def query(self, value):\n",
    "        ''' Search the username of with that value'''\n",
    "        username = session.query(Account).filter(Account.username.like(f'%{value}%')).all()\n",
    "        \n",
    "        return self.create_json_dict([username])\n",
    "        \n",
    "class HouseController(Controller):\n",
    "    \n",
    "    def query(self, value):\n",
    "        ''' search the hotel name '''\n",
    "        name = session.query(House).filter(House.name.like(f'%{value}%')).all()\n",
    "        location = session.query(House).filter(House.location.like(f'%{value}%')).all()\n",
    "        result = [location, name]\n",
    "        return self.create_json_dict(result)\n",
    "        \n",
    "class LandlordController(Controller):\n",
    "    def query(self, value):\n",
    "        name = session.query(LandLord).filter(LandLord.names.like(f'%{value}%')).all()\n",
    "        return self.create_json_dict([name])\n",
    "\n",
    "\n",
    "        \n",
    "        \n",
    "\n"
   ]
  },
  {
   "cell_type": "code",
   "execution_count": 49,
   "id": "d94fab88",
   "metadata": {},
   "outputs": [],
   "source": [
    "room = LandlordController()"
   ]
  },
  {
   "cell_type": "code",
   "execution_count": 50,
   "id": "8e39e3ae",
   "metadata": {},
   "outputs": [
    {
     "name": "stdout",
     "output_type": "stream",
     "text": [
      "2023-10-10 11:01:06,206 INFO sqlalchemy.engine.Engine BEGIN (implicit)\n",
      "2023-10-10 11:01:06,217 INFO sqlalchemy.engine.Engine SELECT landlord.id AS landlord_id, landlord.names AS landlord_names, landlord.house AS landlord_house, landlord.phone_no AS landlord_phone_no, landlord.address AS landlord_address, landlord.location AS landlord_location \n",
      "FROM landlord \n",
      "WHERE landlord.names LIKE ?\n",
      "2023-10-10 11:01:06,220 INFO sqlalchemy.engine.Engine [generated in 0.00339s] ('%serena%',)\n"
     ]
    },
    {
     "data": {
      "text/plain": [
       "'{}'"
      ]
     },
     "execution_count": 50,
     "metadata": {},
     "output_type": "execute_result"
    }
   ],
   "source": [
    "room.query('serena')"
   ]
  },
  {
   "cell_type": "code",
   "execution_count": 79,
   "id": "34ae4b2f-3fdc-45ba-8fe9-6e4b72f3f11a",
   "metadata": {},
   "outputs": [
    {
     "data": {
      "text/plain": [
       "200"
      ]
     },
     "execution_count": 79,
     "metadata": {},
     "output_type": "execute_result"
    }
   ],
   "source": [
    "url = 'http://127.0.0.1:5000/search'\n",
    "resp = requests.post(url, data={'searchQuery':'serena'})\n",
    "resp.status_code"
   ]
  },
  {
   "cell_type": "code",
   "execution_count": 82,
   "id": "f2ca5017-2b06-4f3a-80b3-7ad52b6da2da",
   "metadata": {},
   "outputs": [
    {
     "name": "stdout",
     "output_type": "stream",
     "text": [
      "<class 'list'>\n",
      "<class 'list'>\n",
      "<class 'list'>\n",
      "<class 'list'>\n"
     ]
    }
   ],
   "source": [
    "from pprint import pprint\n",
    "for key, value in dict(resp.json()).items():\n",
    "    print(type(value))\n"
   ]
  },
  {
   "cell_type": "code",
   "execution_count": 81,
   "id": "a12b5b28-b195-4af5-9680-aa182d41cee4",
   "metadata": {},
   "outputs": [
    {
     "data": {
      "text/plain": [
       "{'Account': [],\n",
       " 'House': [],\n",
       " 'LandLord': [],\n",
       " 'Room': [{'amount': 82382,\n",
       "   'description': 'The room is furnished with a lot of content and the place is very secure',\n",
       "   'gps': '84.737348,72.8734423',\n",
       "   'hotelname': 'serena',\n",
       "   'id': 1,\n",
       "   'location': 'Opposite luxury casino',\n",
       "   'picture': 'monica.jpg',\n",
       "   'region': 'Nairobi',\n",
       "   'roomtype': 'luxury'},\n",
       "  {'amount': 82382,\n",
       "   'description': 'The room is furnished with a lot of content and the place is very secure',\n",
       "   'gps': '84.737348,72.8734423',\n",
       "   'hotelname': 'serena',\n",
       "   'id': 2,\n",
       "   'location': 'Opposite luxury casino',\n",
       "   'picture': 'monica.jpg',\n",
       "   'region': 'Nairobi',\n",
       "   'roomtype': 'luxury'},\n",
       "  {'amount': 82382,\n",
       "   'description': 'The room is furnished with a lot of content and the place is very secure',\n",
       "   'gps': '84.737348,72.8734423',\n",
       "   'hotelname': 'serena',\n",
       "   'id': 3,\n",
       "   'location': 'Opposite luxury casino',\n",
       "   'picture': 'monica.jpg',\n",
       "   'region': 'Nairobi',\n",
       "   'roomtype': 'luxury'},\n",
       "  {'amount': 82382,\n",
       "   'description': 'The room is furnished with a lot of content and the place is very secure',\n",
       "   'gps': '84.737348,72.8734423',\n",
       "   'hotelname': 'serena',\n",
       "   'id': 4,\n",
       "   'location': 'Opposite luxury casino',\n",
       "   'picture': 'monica.jpg',\n",
       "   'region': 'Nairobi',\n",
       "   'roomtype': 'luxury'}]}"
      ]
     },
     "execution_count": 81,
     "metadata": {},
     "output_type": "execute_result"
    }
   ],
   "source": [
    "dict(resp.json())"
   ]
  },
  {
   "cell_type": "code",
   "execution_count": 2,
   "id": "3e7753bb-e683-4896-b091-17296d78ec2f",
   "metadata": {},
   "outputs": [],
   "source": [
    "import mimetypes\n",
    "import urllib"
   ]
  },
  {
   "cell_type": "code",
   "execution_count": 10,
   "id": "abf88403-29f5-45cc-9b53-c526b325e91a",
   "metadata": {},
   "outputs": [],
   "source": [
    "filename = \"http://localhost:5000//get_file/IMG-20220629-WA0000_remove_bg.png\"\n",
    "request = urllib.request.Request(filename)\n",
    "fd = urllib.request.urlopen(request)\n",
    "ctypes = fd.info().get_content_type()\n",
    "suffix = mimetypes.guess_extension(ctypes)"
   ]
  },
  {
   "cell_type": "code",
   "execution_count": 11,
   "id": "0f568a2c-2433-434a-ba39-96cffd1d7720",
   "metadata": {},
   "outputs": [
    {
     "data": {
      "text/plain": [
       "'image/png'"
      ]
     },
     "execution_count": 11,
     "metadata": {},
     "output_type": "execute_result"
    }
   ],
   "source": [
    "fd.info().get_content_type()"
   ]
  },
  {
   "cell_type": "code",
   "execution_count": 13,
   "id": "4ddd6ecb-8f23-461d-95fd-da81bb4b4488",
   "metadata": {},
   "outputs": [],
   "source": [
    "data = fd.read()"
   ]
  },
  {
   "cell_type": "code",
   "execution_count": 32,
   "id": "39777a2f-0126-4a3e-81bf-8862ee9c4b61",
   "metadata": {},
   "outputs": [],
   "source": [
    "import tempfile\n",
    "import os\n",
    "import io\n",
    "import base64"
   ]
  },
  {
   "cell_type": "code",
   "execution_count": 16,
   "id": "baa138d9-9355-49c1-9ccc-83abe8388ebd",
   "metadata": {},
   "outputs": [],
   "source": [
    "out, filename = tempfile.mkstemp(prefix='downloads', suffix=suffix)"
   ]
  },
  {
   "cell_type": "code",
   "execution_count": 21,
   "id": "26e83cb4-673c-4fea-aa69-df7389d00647",
   "metadata": {},
   "outputs": [],
   "source": [
    "\n",
    "os.write(out, data)\n",
    "os.close(out)"
   ]
  },
  {
   "cell_type": "code",
   "execution_count": 28,
   "id": "41b5f770-8b38-456c-925c-63f6f9ec490a",
   "metadata": {},
   "outputs": [
    {
     "data": {
      "text/plain": [
       "PIL.PngImagePlugin.PngImageFile"
      ]
     },
     "execution_count": 28,
     "metadata": {},
     "output_type": "execute_result"
    }
   ],
   "source": [
    "pic = Image.open(filename)\n",
    "type(pic)"
   ]
  },
  {
   "cell_type": "code",
   "execution_count": 31,
   "id": "31318fcd-a5eb-4521-b345-dbc9b06710c6",
   "metadata": {},
   "outputs": [],
   "source": [
    "arr = io.BytesIO()\n",
    "pic.save(arr, format='png')"
   ]
  },
  {
   "cell_type": "code",
   "execution_count": 33,
   "id": "49500c13-5038-4162-991b-edf199e46771",
   "metadata": {},
   "outputs": [],
   "source": [
    "encoded = base64.encodebytes(arr.getvalue()).decode('utf-8')"
   ]
  },
  {
   "cell_type": "code",
   "execution_count": 45,
   "id": "05f63419-18ba-430a-8572-7362dcfcf1d5",
   "metadata": {},
   "outputs": [],
   "source": [
    "#base64.decodebytes(encoded.encode('utf-8'))"
   ]
  },
  {
   "cell_type": "code",
   "execution_count": 46,
   "id": "a0bf575b-8804-4b0d-b415-6ab04ded670b",
   "metadata": {},
   "outputs": [],
   "source": [
    "import gzip"
   ]
  },
  {
   "cell_type": "code",
   "execution_count": 49,
   "id": "3059214b-695b-485b-a5d8-eee2e11a2a72",
   "metadata": {},
   "outputs": [],
   "source": [
    "compressed = gzip.compress(encoded.encode('utf-8'))"
   ]
  },
  {
   "cell_type": "code",
   "execution_count": 50,
   "id": "ac3e88fb-0d4d-4abb-89f6-ebb22fad93b4",
   "metadata": {},
   "outputs": [
    {
     "data": {
      "text/plain": [
       "233846"
      ]
     },
     "execution_count": 50,
     "metadata": {},
     "output_type": "execute_result"
    }
   ],
   "source": [
    "len(compressed)"
   ]
  },
  {
   "cell_type": "code",
   "execution_count": null,
   "id": "918349f1-04b7-42b2-a22f-b4b75c7b7d14",
   "metadata": {},
   "outputs": [],
   "source": []
  }
 ],
 "metadata": {
  "kernelspec": {
   "display_name": "Python 3 (ipykernel)",
   "language": "python",
   "name": "python3"
  },
  "language_info": {
   "codemirror_mode": {
    "name": "ipython",
    "version": 3
   },
   "file_extension": ".py",
   "mimetype": "text/x-python",
   "name": "python",
   "nbconvert_exporter": "python",
   "pygments_lexer": "ipython3",
   "version": "3.10.5"
  }
 },
 "nbformat": 4,
 "nbformat_minor": 5
}
